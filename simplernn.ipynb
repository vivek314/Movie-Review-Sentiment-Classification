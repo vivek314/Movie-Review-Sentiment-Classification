{
 "cells": [
  {
   "cell_type": "code",
   "execution_count": null,
   "id": "4ef1b98d",
   "metadata": {},
   "outputs": [],
   "source": []
  }
 ],
 "metadata": {
  "kernelspec": {
   "display_name": "Python 3",
   "language": "python",
   "name": "python3"
  },
  "language_info": {
   "name": "python",
   "version": "3.10.0"
  }
 },
 "nbformat": 4,
 "nbformat_minor": 5
}
